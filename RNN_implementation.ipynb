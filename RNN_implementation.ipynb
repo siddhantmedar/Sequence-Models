{
 "cells": [
  {
   "cell_type": "code",
   "execution_count": null,
   "metadata": {},
   "outputs": [],
   "source": [
    "import torch\n",
    "import torch.nn as nn\n",
    "import tiktoken"
   ]
  },
  {
   "cell_type": "code",
   "execution_count": 2,
   "metadata": {},
   "outputs": [],
   "source": [
    "data_path = \"dataset/data.txt\"\n",
    "\n",
    "with open(data_path,\"r\") as handle:\n",
    "    data = handle.read()"
   ]
  },
  {
   "cell_type": "code",
   "execution_count": 3,
   "metadata": {},
   "outputs": [],
   "source": [
    "n_features = 5"
   ]
  },
  {
   "cell_type": "code",
   "execution_count": 4,
   "metadata": {},
   "outputs": [
    {
     "data": {
      "text/plain": [
       "41921"
      ]
     },
     "execution_count": 4,
     "metadata": {},
     "output_type": "execute_result"
    }
   ],
   "source": [
    "tokenizer = tiktoken.get_encoding(\"gpt2\")\n",
    "encoded_data = tokenizer.encode(data)\n",
    "len(encoded_data)"
   ]
  },
  {
   "cell_type": "code",
   "execution_count": 5,
   "metadata": {},
   "outputs": [],
   "source": [
    "data  = []\n",
    "targets = []\n",
    "\n",
    "for i in range(0, len(encoded_data), n_features):\n",
    "    if i + n_features >= len(encoded_data):\n",
    "        break\n",
    "    \n",
    "    data.append(encoded_data[i:i+n_features])\n",
    "    targets.append(encoded_data[i+n_features])\n",
    "\n",
    "data = torch.tensor(data)\n",
    "targets = torch.tensor(targets)"
   ]
  },
  {
   "cell_type": "code",
   "execution_count": 6,
   "metadata": {},
   "outputs": [
    {
     "data": {
      "text/plain": [
       "(torch.Size([8384, 5]), torch.Size([8384]))"
      ]
     },
     "execution_count": 6,
     "metadata": {},
     "output_type": "execute_result"
    }
   ],
   "source": [
    "data.shape, targets.shape"
   ]
  },
  {
   "cell_type": "code",
   "execution_count": 7,
   "metadata": {},
   "outputs": [],
   "source": [
    "class SimpleRNN(nn.Module):\n",
    "    def __init__(self,vocab_size,embedding_dim,hidden_dim):\n",
    "        super(SimpleRNN, self).__init__()\n",
    "\n",
    "        self.embedding = nn.Embedding(num_embeddings=vocab_size,embedding_dim=embedding_dim)\n",
    "        self.rnn = nn.RNN(input_size=embedding_dim,hidden_size=hidden_dim,batch_first=True)\n",
    "        self.fc = nn.Linear(hidden_dim,vocab_size)\n",
    "\n",
    "    def forward(self,x):\n",
    "        embedding = self.embedding(x) # Shape: (batch_size, seq_len, embedding_dim)\n",
    "        output,hidden = self.rnn(embedding) # Shape: (batch_size, seq_length, hidden_size)\n",
    "        output = self.fc(output[:,-1,:]) # Shape: (batch_size,vocab_size)\n",
    "        return output"
   ]
  },
  {
   "cell_type": "code",
   "execution_count": 8,
   "metadata": {},
   "outputs": [],
   "source": [
    "vocab_size = tokenizer.n_vocab\n",
    "embedding_dim = 50\n",
    "hidden_dim = 128\n",
    "\n",
    "learning_rate = 0.001"
   ]
  },
  {
   "cell_type": "code",
   "execution_count": 9,
   "metadata": {},
   "outputs": [],
   "source": [
    "model = SimpleRNN(vocab_size,embedding_dim,hidden_dim)\n",
    "loss_fn = nn.CrossEntropyLoss()\n",
    "optimizer = torch.optim.AdamW(model.parameters(),lr=learning_rate)"
   ]
  },
  {
   "cell_type": "code",
   "execution_count": 17,
   "metadata": {},
   "outputs": [
    {
     "name": "stdout",
     "output_type": "stream",
     "text": [
      "Epoch 1, Loss: 5.5384\n",
      "Epoch 2, Loss: 5.5289\n",
      "Epoch 3, Loss: 5.5195\n",
      "Epoch 4, Loss: 5.5102\n",
      "Epoch 5, Loss: 5.5007\n",
      "Epoch 6, Loss: 5.4912\n",
      "Epoch 7, Loss: 5.4815\n",
      "Epoch 8, Loss: 5.4716\n",
      "Epoch 9, Loss: 5.4618\n",
      "Epoch 10, Loss: 5.4520\n",
      "Epoch 11, Loss: 5.4424\n",
      "Epoch 12, Loss: 5.4330\n",
      "Epoch 13, Loss: 5.4239\n",
      "Epoch 14, Loss: 5.4151\n",
      "Epoch 15, Loss: 5.4067\n",
      "Epoch 16, Loss: 5.3986\n",
      "Epoch 17, Loss: 5.3907\n",
      "Epoch 18, Loss: 5.3828\n",
      "Epoch 19, Loss: 5.3748\n",
      "Epoch 20, Loss: 5.3667\n",
      "Epoch 21, Loss: 5.3584\n",
      "Epoch 22, Loss: 5.3498\n",
      "Epoch 23, Loss: 5.3412\n",
      "Epoch 24, Loss: 5.3323\n",
      "Epoch 25, Loss: 5.3234\n",
      "Epoch 26, Loss: 5.3144\n",
      "Epoch 27, Loss: 5.3052\n",
      "Epoch 28, Loss: 5.2960\n",
      "Epoch 29, Loss: 5.2865\n",
      "Epoch 30, Loss: 5.2767\n",
      "Epoch 31, Loss: 5.2666\n",
      "Epoch 32, Loss: 5.2561\n",
      "Epoch 33, Loss: 5.2454\n",
      "Epoch 34, Loss: 5.2344\n",
      "Epoch 35, Loss: 5.2234\n",
      "Epoch 36, Loss: 5.2123\n",
      "Epoch 37, Loss: 5.2013\n",
      "Epoch 38, Loss: 5.1905\n",
      "Epoch 39, Loss: 5.1796\n",
      "Epoch 40, Loss: 5.1687\n",
      "Epoch 41, Loss: 5.1577\n",
      "Epoch 42, Loss: 5.1463\n",
      "Epoch 43, Loss: 5.1346\n",
      "Epoch 44, Loss: 5.1226\n",
      "Epoch 45, Loss: 5.1104\n",
      "Epoch 46, Loss: 5.0980\n",
      "Epoch 47, Loss: 5.0854\n",
      "Epoch 48, Loss: 5.0726\n",
      "Epoch 49, Loss: 5.0596\n",
      "Epoch 50, Loss: 5.0464\n",
      "Epoch 51, Loss: 5.0330\n",
      "Epoch 52, Loss: 5.0194\n",
      "Epoch 53, Loss: 5.0057\n",
      "Epoch 54, Loss: 4.9920\n",
      "Epoch 55, Loss: 4.9781\n",
      "Epoch 56, Loss: 4.9643\n",
      "Epoch 57, Loss: 4.9505\n",
      "Epoch 58, Loss: 4.9366\n",
      "Epoch 59, Loss: 4.9227\n",
      "Epoch 60, Loss: 4.9087\n",
      "Epoch 61, Loss: 4.8945\n",
      "Epoch 62, Loss: 4.8800\n",
      "Epoch 63, Loss: 4.8654\n",
      "Epoch 64, Loss: 4.8506\n",
      "Epoch 65, Loss: 4.8357\n",
      "Epoch 66, Loss: 4.8207\n",
      "Epoch 67, Loss: 4.8058\n",
      "Epoch 68, Loss: 4.7908\n",
      "Epoch 69, Loss: 4.7757\n",
      "Epoch 70, Loss: 4.7607\n",
      "Epoch 71, Loss: 4.7455\n",
      "Epoch 72, Loss: 4.7303\n",
      "Epoch 73, Loss: 4.7151\n",
      "Epoch 74, Loss: 4.6997\n",
      "Epoch 75, Loss: 4.6843\n",
      "Epoch 76, Loss: 4.6688\n",
      "Epoch 77, Loss: 4.6532\n",
      "Epoch 78, Loss: 4.6376\n",
      "Epoch 79, Loss: 4.6219\n",
      "Epoch 80, Loss: 4.6061\n",
      "Epoch 81, Loss: 4.5903\n",
      "Epoch 82, Loss: 4.5745\n",
      "Epoch 83, Loss: 4.5586\n",
      "Epoch 84, Loss: 4.5426\n",
      "Epoch 85, Loss: 4.5267\n",
      "Epoch 86, Loss: 4.5108\n",
      "Epoch 87, Loss: 4.4949\n",
      "Epoch 88, Loss: 4.4790\n",
      "Epoch 89, Loss: 4.4631\n",
      "Epoch 90, Loss: 4.4473\n",
      "Epoch 91, Loss: 4.4314\n",
      "Epoch 92, Loss: 4.4157\n",
      "Epoch 93, Loss: 4.3999\n",
      "Epoch 94, Loss: 4.3841\n",
      "Epoch 95, Loss: 4.3684\n",
      "Epoch 96, Loss: 4.3526\n",
      "Epoch 97, Loss: 4.3369\n",
      "Epoch 98, Loss: 4.3211\n",
      "Epoch 99, Loss: 4.3053\n",
      "Epoch 100, Loss: 4.2895\n"
     ]
    }
   ],
   "source": [
    "epochs = 100\n",
    "\n",
    "for epoch in range(epochs):\n",
    "    y_pred = model(data)\n",
    "    loss = loss_fn(y_pred,targets)\n",
    "\n",
    "    optimizer.zero_grad()\n",
    "    loss.backward()\n",
    "    optimizer.step()\n",
    "\n",
    "    print(f\"Epoch {epoch+1}, Loss: {loss.item():.4f}\")"
   ]
  },
  {
   "cell_type": "code",
   "execution_count": 33,
   "metadata": {},
   "outputs": [
    {
     "name": "stdout",
     "output_type": "stream",
     "text": [
      "531\n",
      "Predicted next word:  said\n"
     ]
    }
   ],
   "source": [
    "input_seq = [\"weather\"]\n",
    "input_indices = []\n",
    "\n",
    "for word in input_seq:\n",
    "    input_indices.extend(tokenizer.encode(word))\n",
    "\n",
    "input_indices = torch.tensor(input_indices)\n",
    "\n",
    "model.eval()\n",
    "\n",
    "input_indices = input_indices.unsqueeze(0)\n",
    "\n",
    "with torch.no_grad():\n",
    "    output = model(input_indices)\n",
    "    predicted_index = torch.argmax(output,dim=-1).item()\n",
    "    print(predicted_index)\n",
    "\n",
    "predicted_word = tokenizer.decode([predicted_index])\n",
    "\n",
    "print(\"Predicted next word:\", predicted_word)"
   ]
  }
 ],
 "metadata": {
  "kernelspec": {
   "display_name": "dl_py39",
   "language": "python",
   "name": "python3"
  },
  "language_info": {
   "codemirror_mode": {
    "name": "ipython",
    "version": 3
   },
   "file_extension": ".py",
   "mimetype": "text/x-python",
   "name": "python",
   "nbconvert_exporter": "python",
   "pygments_lexer": "ipython3",
   "version": "3.9.19"
  }
 },
 "nbformat": 4,
 "nbformat_minor": 2
}
